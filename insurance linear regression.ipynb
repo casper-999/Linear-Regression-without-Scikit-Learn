{
 "cells": [
  {
   "cell_type": "code",
   "execution_count": 3,
   "id": "16f2cd75",
   "metadata": {},
   "outputs": [],
   "source": [
    "import pandas as pd\n",
    "import numpy as np"
   ]
  },
  {
   "cell_type": "code",
   "execution_count": 4,
   "id": "26ff6f63",
   "metadata": {},
   "outputs": [],
   "source": [
    "data = pd.read_csv(\"D:/DataSets ML/insurance/insurance.csv\")"
   ]
  },
  {
   "cell_type": "code",
   "execution_count": 5,
   "id": "85f97d20",
   "metadata": {},
   "outputs": [],
   "source": [
    "data['sex'].replace(to_replace=['male','female'],value =[0,1],inplace = True)"
   ]
  },
  {
   "cell_type": "code",
   "execution_count": 6,
   "id": "95d84535",
   "metadata": {},
   "outputs": [],
   "source": [
    "data['smoker'].replace(to_replace=['no','yes'],value =[0,1],inplace = True)"
   ]
  },
  {
   "cell_type": "code",
   "execution_count": 7,
   "id": "20dc230e",
   "metadata": {},
   "outputs": [],
   "source": [
    "data['region'].replace(to_replace= data['region'].unique(),value = list(range(len(data['region'].unique()))),inplace = True)"
   ]
  },
  {
   "cell_type": "code",
   "execution_count": 8,
   "id": "4d87b3e9",
   "metadata": {},
   "outputs": [],
   "source": [
    "#ohe - one hot encodeing\n",
    "region_variable_ohe = np.eye(len(data['region'].unique()),len(data['region'].unique()))[data['region']]"
   ]
  },
  {
   "cell_type": "code",
   "execution_count": 9,
   "id": "07e3f97a",
   "metadata": {},
   "outputs": [],
   "source": [
    "processed_data = data.drop(['region'],axis = 1)"
   ]
  },
  {
   "cell_type": "code",
   "execution_count": 10,
   "id": "4b5dfe83",
   "metadata": {},
   "outputs": [
    {
     "data": {
      "text/html": [
       "<div>\n",
       "<style scoped>\n",
       "    .dataframe tbody tr th:only-of-type {\n",
       "        vertical-align: middle;\n",
       "    }\n",
       "\n",
       "    .dataframe tbody tr th {\n",
       "        vertical-align: top;\n",
       "    }\n",
       "\n",
       "    .dataframe thead th {\n",
       "        text-align: right;\n",
       "    }\n",
       "</style>\n",
       "<table border=\"1\" class=\"dataframe\">\n",
       "  <thead>\n",
       "    <tr style=\"text-align: right;\">\n",
       "      <th></th>\n",
       "      <th>age</th>\n",
       "      <th>sex</th>\n",
       "      <th>bmi</th>\n",
       "      <th>children</th>\n",
       "      <th>smoker</th>\n",
       "      <th>charges</th>\n",
       "    </tr>\n",
       "  </thead>\n",
       "  <tbody>\n",
       "    <tr>\n",
       "      <th>0</th>\n",
       "      <td>19</td>\n",
       "      <td>1</td>\n",
       "      <td>27.900</td>\n",
       "      <td>0</td>\n",
       "      <td>1</td>\n",
       "      <td>16884.92400</td>\n",
       "    </tr>\n",
       "    <tr>\n",
       "      <th>1</th>\n",
       "      <td>18</td>\n",
       "      <td>0</td>\n",
       "      <td>33.770</td>\n",
       "      <td>1</td>\n",
       "      <td>0</td>\n",
       "      <td>1725.55230</td>\n",
       "    </tr>\n",
       "    <tr>\n",
       "      <th>2</th>\n",
       "      <td>28</td>\n",
       "      <td>0</td>\n",
       "      <td>33.000</td>\n",
       "      <td>3</td>\n",
       "      <td>0</td>\n",
       "      <td>4449.46200</td>\n",
       "    </tr>\n",
       "    <tr>\n",
       "      <th>3</th>\n",
       "      <td>33</td>\n",
       "      <td>0</td>\n",
       "      <td>22.705</td>\n",
       "      <td>0</td>\n",
       "      <td>0</td>\n",
       "      <td>21984.47061</td>\n",
       "    </tr>\n",
       "    <tr>\n",
       "      <th>4</th>\n",
       "      <td>32</td>\n",
       "      <td>0</td>\n",
       "      <td>28.880</td>\n",
       "      <td>0</td>\n",
       "      <td>0</td>\n",
       "      <td>3866.85520</td>\n",
       "    </tr>\n",
       "    <tr>\n",
       "      <th>...</th>\n",
       "      <td>...</td>\n",
       "      <td>...</td>\n",
       "      <td>...</td>\n",
       "      <td>...</td>\n",
       "      <td>...</td>\n",
       "      <td>...</td>\n",
       "    </tr>\n",
       "    <tr>\n",
       "      <th>1333</th>\n",
       "      <td>50</td>\n",
       "      <td>0</td>\n",
       "      <td>30.970</td>\n",
       "      <td>3</td>\n",
       "      <td>0</td>\n",
       "      <td>10600.54830</td>\n",
       "    </tr>\n",
       "    <tr>\n",
       "      <th>1334</th>\n",
       "      <td>18</td>\n",
       "      <td>1</td>\n",
       "      <td>31.920</td>\n",
       "      <td>0</td>\n",
       "      <td>0</td>\n",
       "      <td>2205.98080</td>\n",
       "    </tr>\n",
       "    <tr>\n",
       "      <th>1335</th>\n",
       "      <td>18</td>\n",
       "      <td>1</td>\n",
       "      <td>36.850</td>\n",
       "      <td>0</td>\n",
       "      <td>0</td>\n",
       "      <td>1629.83350</td>\n",
       "    </tr>\n",
       "    <tr>\n",
       "      <th>1336</th>\n",
       "      <td>21</td>\n",
       "      <td>1</td>\n",
       "      <td>25.800</td>\n",
       "      <td>0</td>\n",
       "      <td>0</td>\n",
       "      <td>2007.94500</td>\n",
       "    </tr>\n",
       "    <tr>\n",
       "      <th>1337</th>\n",
       "      <td>61</td>\n",
       "      <td>1</td>\n",
       "      <td>29.070</td>\n",
       "      <td>0</td>\n",
       "      <td>1</td>\n",
       "      <td>29141.36030</td>\n",
       "    </tr>\n",
       "  </tbody>\n",
       "</table>\n",
       "<p>1338 rows × 6 columns</p>\n",
       "</div>"
      ],
      "text/plain": [
       "      age  sex     bmi  children  smoker      charges\n",
       "0      19    1  27.900         0       1  16884.92400\n",
       "1      18    0  33.770         1       0   1725.55230\n",
       "2      28    0  33.000         3       0   4449.46200\n",
       "3      33    0  22.705         0       0  21984.47061\n",
       "4      32    0  28.880         0       0   3866.85520\n",
       "...   ...  ...     ...       ...     ...          ...\n",
       "1333   50    0  30.970         3       0  10600.54830\n",
       "1334   18    1  31.920         0       0   2205.98080\n",
       "1335   18    1  36.850         0       0   1629.83350\n",
       "1336   21    1  25.800         0       0   2007.94500\n",
       "1337   61    1  29.070         0       1  29141.36030\n",
       "\n",
       "[1338 rows x 6 columns]"
      ]
     },
     "execution_count": 10,
     "metadata": {},
     "output_type": "execute_result"
    }
   ],
   "source": [
    "processed_data"
   ]
  },
  {
   "cell_type": "code",
   "execution_count": 11,
   "id": "e8a71166",
   "metadata": {},
   "outputs": [],
   "source": [
    "region_variable_df = pd.DataFrame(data = region_variable_ohe,columns = ['Region 0','Region 1','Region 2','Region 3'])"
   ]
  },
  {
   "cell_type": "code",
   "execution_count": 12,
   "id": "9edb3e0f",
   "metadata": {},
   "outputs": [],
   "source": [
    "processed_data = pd.concat([processed_data,region_variable_df],axis =1)"
   ]
  },
  {
   "cell_type": "code",
   "execution_count": 13,
   "id": "c34f48e4",
   "metadata": {},
   "outputs": [],
   "source": [
    "gt_labels = processed_data['charges']\n",
    "\n",
    "processed_data.drop(['charges'],axis = 1,inplace = True)"
   ]
  },
  {
   "cell_type": "code",
   "execution_count": 14,
   "id": "1445b022",
   "metadata": {},
   "outputs": [],
   "source": [
    "processed_data['charges'] = gt_labels"
   ]
  },
  {
   "cell_type": "code",
   "execution_count": null,
   "id": "735da01d",
   "metadata": {},
   "outputs": [],
   "source": []
  },
  {
   "cell_type": "code",
   "execution_count": 17,
   "id": "564ac181",
   "metadata": {},
   "outputs": [],
   "source": [
    "Y = np.array(processed_data['charges']).reshape(processed_data.shape[0],1)\n",
    "X_transpose = np.array(processed_data.drop(['charges'],axis =1))"
   ]
  },
  {
   "cell_type": "code",
   "execution_count": 18,
   "id": "71ef8b0f",
   "metadata": {},
   "outputs": [
    {
     "data": {
      "text/plain": [
       "(1338, 1)"
      ]
     },
     "execution_count": 18,
     "metadata": {},
     "output_type": "execute_result"
    }
   ],
   "source": [
    "Y.shape"
   ]
  },
  {
   "cell_type": "code",
   "execution_count": 19,
   "id": "50c6dc68",
   "metadata": {},
   "outputs": [],
   "source": [
    "X_transpose = (X_transpose - np.mean(X_transpose,axis = 0))/np.std(X_transpose,axis = 0)"
   ]
  },
  {
   "cell_type": "code",
   "execution_count": 20,
   "id": "4977f985",
   "metadata": {},
   "outputs": [],
   "source": [
    "X_transpose_df = pd.DataFrame(data = X_transpose)"
   ]
  },
  {
   "cell_type": "code",
   "execution_count": 21,
   "id": "d0cab1fb",
   "metadata": {},
   "outputs": [
    {
     "data": {
      "text/html": [
       "<div>\n",
       "<style scoped>\n",
       "    .dataframe tbody tr th:only-of-type {\n",
       "        vertical-align: middle;\n",
       "    }\n",
       "\n",
       "    .dataframe tbody tr th {\n",
       "        vertical-align: top;\n",
       "    }\n",
       "\n",
       "    .dataframe thead th {\n",
       "        text-align: right;\n",
       "    }\n",
       "</style>\n",
       "<table border=\"1\" class=\"dataframe\">\n",
       "  <thead>\n",
       "    <tr style=\"text-align: right;\">\n",
       "      <th></th>\n",
       "      <th>0</th>\n",
       "      <th>1</th>\n",
       "      <th>2</th>\n",
       "      <th>3</th>\n",
       "      <th>4</th>\n",
       "      <th>5</th>\n",
       "      <th>6</th>\n",
       "      <th>7</th>\n",
       "      <th>8</th>\n",
       "    </tr>\n",
       "  </thead>\n",
       "  <tbody>\n",
       "    <tr>\n",
       "      <th>0</th>\n",
       "      <td>-1.438764</td>\n",
       "      <td>1.010519</td>\n",
       "      <td>-0.453320</td>\n",
       "      <td>-0.908614</td>\n",
       "      <td>1.970587</td>\n",
       "      <td>1.765481</td>\n",
       "      <td>-0.611324</td>\n",
       "      <td>-0.566418</td>\n",
       "      <td>-0.565267</td>\n",
       "    </tr>\n",
       "    <tr>\n",
       "      <th>1</th>\n",
       "      <td>-1.509965</td>\n",
       "      <td>-0.989591</td>\n",
       "      <td>0.509621</td>\n",
       "      <td>-0.078767</td>\n",
       "      <td>-0.507463</td>\n",
       "      <td>-0.566418</td>\n",
       "      <td>1.635795</td>\n",
       "      <td>-0.566418</td>\n",
       "      <td>-0.565267</td>\n",
       "    </tr>\n",
       "    <tr>\n",
       "      <th>2</th>\n",
       "      <td>-0.797954</td>\n",
       "      <td>-0.989591</td>\n",
       "      <td>0.383307</td>\n",
       "      <td>1.580926</td>\n",
       "      <td>-0.507463</td>\n",
       "      <td>-0.566418</td>\n",
       "      <td>1.635795</td>\n",
       "      <td>-0.566418</td>\n",
       "      <td>-0.565267</td>\n",
       "    </tr>\n",
       "    <tr>\n",
       "      <th>3</th>\n",
       "      <td>-0.441948</td>\n",
       "      <td>-0.989591</td>\n",
       "      <td>-1.305531</td>\n",
       "      <td>-0.908614</td>\n",
       "      <td>-0.507463</td>\n",
       "      <td>-0.566418</td>\n",
       "      <td>-0.611324</td>\n",
       "      <td>1.765481</td>\n",
       "      <td>-0.565267</td>\n",
       "    </tr>\n",
       "    <tr>\n",
       "      <th>4</th>\n",
       "      <td>-0.513149</td>\n",
       "      <td>-0.989591</td>\n",
       "      <td>-0.292556</td>\n",
       "      <td>-0.908614</td>\n",
       "      <td>-0.507463</td>\n",
       "      <td>-0.566418</td>\n",
       "      <td>-0.611324</td>\n",
       "      <td>1.765481</td>\n",
       "      <td>-0.565267</td>\n",
       "    </tr>\n",
       "    <tr>\n",
       "      <th>...</th>\n",
       "      <td>...</td>\n",
       "      <td>...</td>\n",
       "      <td>...</td>\n",
       "      <td>...</td>\n",
       "      <td>...</td>\n",
       "      <td>...</td>\n",
       "      <td>...</td>\n",
       "      <td>...</td>\n",
       "      <td>...</td>\n",
       "    </tr>\n",
       "    <tr>\n",
       "      <th>1333</th>\n",
       "      <td>0.768473</td>\n",
       "      <td>-0.989591</td>\n",
       "      <td>0.050297</td>\n",
       "      <td>1.580926</td>\n",
       "      <td>-0.507463</td>\n",
       "      <td>-0.566418</td>\n",
       "      <td>-0.611324</td>\n",
       "      <td>1.765481</td>\n",
       "      <td>-0.565267</td>\n",
       "    </tr>\n",
       "    <tr>\n",
       "      <th>1334</th>\n",
       "      <td>-1.509965</td>\n",
       "      <td>1.010519</td>\n",
       "      <td>0.206139</td>\n",
       "      <td>-0.908614</td>\n",
       "      <td>-0.507463</td>\n",
       "      <td>-0.566418</td>\n",
       "      <td>-0.611324</td>\n",
       "      <td>-0.566418</td>\n",
       "      <td>1.769076</td>\n",
       "    </tr>\n",
       "    <tr>\n",
       "      <th>1335</th>\n",
       "      <td>-1.509965</td>\n",
       "      <td>1.010519</td>\n",
       "      <td>1.014878</td>\n",
       "      <td>-0.908614</td>\n",
       "      <td>-0.507463</td>\n",
       "      <td>-0.566418</td>\n",
       "      <td>1.635795</td>\n",
       "      <td>-0.566418</td>\n",
       "      <td>-0.565267</td>\n",
       "    </tr>\n",
       "    <tr>\n",
       "      <th>1336</th>\n",
       "      <td>-1.296362</td>\n",
       "      <td>1.010519</td>\n",
       "      <td>-0.797813</td>\n",
       "      <td>-0.908614</td>\n",
       "      <td>-0.507463</td>\n",
       "      <td>1.765481</td>\n",
       "      <td>-0.611324</td>\n",
       "      <td>-0.566418</td>\n",
       "      <td>-0.565267</td>\n",
       "    </tr>\n",
       "    <tr>\n",
       "      <th>1337</th>\n",
       "      <td>1.551686</td>\n",
       "      <td>1.010519</td>\n",
       "      <td>-0.261388</td>\n",
       "      <td>-0.908614</td>\n",
       "      <td>1.970587</td>\n",
       "      <td>-0.566418</td>\n",
       "      <td>-0.611324</td>\n",
       "      <td>1.765481</td>\n",
       "      <td>-0.565267</td>\n",
       "    </tr>\n",
       "  </tbody>\n",
       "</table>\n",
       "<p>1338 rows × 9 columns</p>\n",
       "</div>"
      ],
      "text/plain": [
       "             0         1         2         3         4         5         6  \\\n",
       "0    -1.438764  1.010519 -0.453320 -0.908614  1.970587  1.765481 -0.611324   \n",
       "1    -1.509965 -0.989591  0.509621 -0.078767 -0.507463 -0.566418  1.635795   \n",
       "2    -0.797954 -0.989591  0.383307  1.580926 -0.507463 -0.566418  1.635795   \n",
       "3    -0.441948 -0.989591 -1.305531 -0.908614 -0.507463 -0.566418 -0.611324   \n",
       "4    -0.513149 -0.989591 -0.292556 -0.908614 -0.507463 -0.566418 -0.611324   \n",
       "...        ...       ...       ...       ...       ...       ...       ...   \n",
       "1333  0.768473 -0.989591  0.050297  1.580926 -0.507463 -0.566418 -0.611324   \n",
       "1334 -1.509965  1.010519  0.206139 -0.908614 -0.507463 -0.566418 -0.611324   \n",
       "1335 -1.509965  1.010519  1.014878 -0.908614 -0.507463 -0.566418  1.635795   \n",
       "1336 -1.296362  1.010519 -0.797813 -0.908614 -0.507463  1.765481 -0.611324   \n",
       "1337  1.551686  1.010519 -0.261388 -0.908614  1.970587 -0.566418 -0.611324   \n",
       "\n",
       "             7         8  \n",
       "0    -0.566418 -0.565267  \n",
       "1    -0.566418 -0.565267  \n",
       "2    -0.566418 -0.565267  \n",
       "3     1.765481 -0.565267  \n",
       "4     1.765481 -0.565267  \n",
       "...        ...       ...  \n",
       "1333  1.765481 -0.565267  \n",
       "1334 -0.566418  1.769076  \n",
       "1335 -0.566418 -0.565267  \n",
       "1336 -0.566418 -0.565267  \n",
       "1337  1.765481 -0.565267  \n",
       "\n",
       "[1338 rows x 9 columns]"
      ]
     },
     "execution_count": 21,
     "metadata": {},
     "output_type": "execute_result"
    }
   ],
   "source": [
    "X_transpose_df\n",
    "#now our data is coming dense after mean standar deciation , that what we want not sparsce data but dense data is good news for algo"
   ]
  },
  {
   "cell_type": "code",
   "execution_count": 22,
   "id": "a268a5f0",
   "metadata": {},
   "outputs": [],
   "source": [
    "X_transpose_train = X_transpose[0: int(0.7*X_transpose.shape[0])]\n",
    "X_transpose_cv = X_transpose[int(0.7*X_transpose.shape[0]): int(0.9*X_transpose.shape[0])]\n",
    "X_transpose_test = X_transpose[int(0.9*X_transpose.shape[0]):]"
   ]
  },
  {
   "cell_type": "code",
   "execution_count": 23,
   "id": "68c03268",
   "metadata": {},
   "outputs": [],
   "source": [
    "#Y_train = Y[0: int(0.7*X_transpose.shape[0])]\n",
    "#now we are normalising Y_train\n",
    "Y_train =  (Y[0: int(0.7*X_transpose.shape[0])] -np.mean( Y[0: int(0.7*X_transpose.shape[0])]))/np.std( Y[0: int(0.7*X_transpose.shape[0])])\n",
    "Y_cv= Y[int(0.7*X_transpose.shape[0]) :int(0.9*X_transpose.shape[0])]\n",
    "Y_test = Y[int(0.9*X_transpose.shape[0]):]"
   ]
  },
  {
   "cell_type": "code",
   "execution_count": 24,
   "id": "732ca86d",
   "metadata": {},
   "outputs": [],
   "source": [
    "N_train = X_transpose_train.shape[0]\n",
    "m = X_transpose_train.shape[1]"
   ]
  },
  {
   "cell_type": "code",
   "execution_count": 25,
   "id": "a8be14bb",
   "metadata": {},
   "outputs": [],
   "source": [
    "def predicted_answers(theta0, theta,X_transpose):\n",
    "    return theta0 + np.matmul(X_transpose,theta)"
   ]
  },
  {
   "cell_type": "code",
   "execution_count": 45,
   "id": "1dac3f15",
   "metadata": {},
   "outputs": [],
   "source": [
    "def neg_log_loss(labels,predicted_labels, theta,reg_strength):\n",
    "    E = labels -  predicted_labels\n",
    "    return (1/labels.shape[0])*np.matmul(E.T,E) + (reg_strength*(np.linalg.norm(theta))**2/2)"
   ]
  },
  {
   "cell_type": "code",
   "execution_count": 32,
   "id": "83d83e16",
   "metadata": {},
   "outputs": [
    {
     "data": {
      "text/plain": [
       "(936, 1)"
      ]
     },
     "execution_count": 32,
     "metadata": {},
     "output_type": "execute_result"
    }
   ],
   "source": [
    "Y_train.shape"
   ]
  },
  {
   "cell_type": "code",
   "execution_count": 41,
   "id": "3f532b2e",
   "metadata": {},
   "outputs": [],
   "source": [
    "def fit(step_size,reg_strength):\n",
    "    theta0_initial = 0\n",
    "    theta_initial = np.zeros((m,1))\n",
    "    epsilon = step_size\n",
    "    tol = 10**(-6)\n",
    "    iteration = list()\n",
    "    neg_log_loss_history = list()\n",
    "    iteration_number = 0\n",
    "    mini_batch_size = 36\n",
    "    time_steps = N_train//mini_batch_size\n",
    "    epoch_counter = 0\n",
    "    invalid_value_flag = 0\n",
    "    \n",
    "    while(True):\n",
    "        for i in range(0,time_steps):\n",
    "            rand_indices = np.random.choice(a=np.arange(0,N_train),size = mini_batch_size,replace=False)\n",
    "            X_transpose_mini_batch = X_transpose[rand_indices]\n",
    "            train_labels_mini_batch = Y_train[rand_indices]\n",
    "            \n",
    "            Predicted_answers_initial = predicted_answers(theta0_initial, theta_initial,X_transpose_mini_batch)\n",
    "            theta0_final = theta0_initial - epsilon*np.mean(Predicted_answers_initial-train_labels_mini_batch)\n",
    "            theta_final = theta_initial - epsilon*((1/mini_batch_size)*np.matmul(X_transpose_mini_batch.T,(Predicted_answers_initial-train_labels_mini_batch))\n",
    "                                                   + (reg_strength*theta_initial))\n",
    "            \n",
    "            neg_log_loss_initial = neg_log_loss(train_labels_mini_batch, Predicted_answers_initial, theta_initial, reg_strength)\n",
    "            \n",
    "            Predicted_answers_final = predicted_answers(theta0_final,theta_final,X_transpose_mini_batch)\n",
    "            neg_log_loss_final = neg_log_loss(train_labels_mini_batch, Predicted_answers_final, theta_final, reg_strength)\n",
    "            \n",
    "            if np.isnan(neg_log_loss_final[0][0]) == True:\n",
    "                invalid_value_flag =1\n",
    "                break\n",
    "            \n",
    "            theta0_initial = theta0_final\n",
    "            theta_initial = theta_final\n",
    "            \n",
    "            iteration.append(iteration_number)\n",
    "            neg_log_loss_history.append(neg_log_loss_initial[0][0])\n",
    "            \n",
    "            iteration_number = iteration_number + 1\n",
    "            \n",
    "            #print(\" Iteratins:\", iteration_number, \"Mean Squared Error : \", neg_log_loss[0][0])\n",
    "        \n",
    "        epoch_counter = epoch_counter +1\n",
    "        \n",
    "        if abs(neg_log_loss_initial - neg_log_loss_final) <tol or invalid_value_flag ==1:\n",
    "            print(\" \\n\\n Epochs -\", epoch_counter, \"Mean Squared Error Loss - \", neg_log_loss_initial[0][0],\"\\n\\n\")\n",
    "            break\n",
    "        \n",
    "        \n",
    "        return {(step_size,reg_strength):[theta0_final, theta_final]}\n",
    "            \n",
    "            \n",
    "        "
   ]
  },
  {
   "cell_type": "code",
   "execution_count": 65,
   "id": "927d59f8",
   "metadata": {},
   "outputs": [],
   "source": [
    "param_config = fit(0.00001,0.01)"
   ]
  },
  {
   "cell_type": "code",
   "execution_count": 55,
   "id": "1f85a327",
   "metadata": {},
   "outputs": [],
   "source": [
    "def compute_mse(labels, predicted_labels):\n",
    "    E = (labels - predicted_labels)\n",
    "    return (1/labels.shape[0])*np.matmul(E.T,E)"
   ]
  },
  {
   "cell_type": "code",
   "execution_count": 61,
   "id": "3da09cd5",
   "metadata": {},
   "outputs": [],
   "source": [
    "def rmse(labels,trained_theta0,trained_theta,X_transpose):\n",
    "    predicted_labels = predicted_answers(trained_theta0, trained_theta, X_transpose)\n",
    "    return np.sqrt(compute_mse(labels,predicted_labels))"
   ]
  },
  {
   "cell_type": "code",
   "execution_count": 46,
   "id": "e6029b22",
   "metadata": {},
   "outputs": [
    {
     "name": "stdout",
     "output_type": "stream",
     "text": [
      " \n",
      "\n",
      " Epochs - 1 Mean Squared Error Loss -  0.4289934572698576 \n",
      "\n",
      "\n"
     ]
    }
   ],
   "source": [
    "grid_search_results = list()\n",
    "for step_size in [0.000001, 0.00001]:\n",
    "    for reg_hyp_param in [0.0001,0.001,0.01,0.1,1,10,100]:\n",
    "        grid_search_results.append(fit(step_size,reg_hyp_param))"
   ]
  },
  {
   "cell_type": "code",
   "execution_count": null,
   "id": "4087b3d7",
   "metadata": {
    "scrolled": false
   },
   "outputs": [],
   "source": []
  },
  {
   "cell_type": "code",
   "execution_count": 67,
   "id": "b4b3f19d",
   "metadata": {},
   "outputs": [],
   "source": [
    "params = list(param_config.values())"
   ]
  },
  {
   "cell_type": "code",
   "execution_count": 101,
   "id": "4ea3ccc2",
   "metadata": {},
   "outputs": [
    {
     "data": {
      "text/plain": [
       "(936, 1)"
      ]
     },
     "execution_count": 101,
     "metadata": {},
     "output_type": "execute_result"
    }
   ],
   "source": [
    "#params[0][1]\n",
    "Y_train.shape"
   ]
  },
  {
   "cell_type": "code",
   "execution_count": 102,
   "id": "8e7b1777",
   "metadata": {},
   "outputs": [],
   "source": [
    "train_rmse = rmse(Y_train,params[0][0],params[0][1],X_transpose_train)"
   ]
  },
  {
   "cell_type": "code",
   "execution_count": 103,
   "id": "0bcafbfc",
   "metadata": {},
   "outputs": [
    {
     "data": {
      "text/plain": [
       "array([[0.99825274]])"
      ]
     },
     "execution_count": 103,
     "metadata": {},
     "output_type": "execute_result"
    }
   ],
   "source": [
    "train_rmse"
   ]
  },
  {
   "cell_type": "code",
   "execution_count": 68,
   "id": "b6b53ca0",
   "metadata": {},
   "outputs": [],
   "source": [
    "Y_cv = (Y_cv - np.mean(Y_cv))/np.std(Y_cv)"
   ]
  },
  {
   "cell_type": "code",
   "execution_count": 69,
   "id": "3e27c6a0",
   "metadata": {},
   "outputs": [],
   "source": [
    "cv_rmse = rmse(Y_cv,params[0][0],params[0][1],X_transpose_cv)"
   ]
  },
  {
   "cell_type": "code",
   "execution_count": 70,
   "id": "17810931",
   "metadata": {},
   "outputs": [
    {
     "data": {
      "text/plain": [
       "array([[0.99983586]])"
      ]
     },
     "execution_count": 70,
     "metadata": {},
     "output_type": "execute_result"
    }
   ],
   "source": [
    "cv_rmse"
   ]
  },
  {
   "cell_type": "code",
   "execution_count": 71,
   "id": "93e0fe08",
   "metadata": {},
   "outputs": [],
   "source": [
    "grid_search_cv_results = dict()\n",
    "for configs in grid_search_results:\n",
    "    if configs is not None:\n",
    "        trained_params = list(configs.values())\n",
    "        grid_search_cv_results[tuple(configs.keys())] = rmse(Y_cv, trained_params[0][0],\n",
    "                                                            trained_params[0][1], X_transpose_cv\n",
    "                                                            )"
   ]
  },
  {
   "cell_type": "code",
   "execution_count": 72,
   "id": "f207336e",
   "metadata": {},
   "outputs": [
    {
     "data": {
      "text/plain": [
       "{((1e-06, 0.001),): array([[0.99998108]]),\n",
       " ((1e-06, 0.01),): array([[0.99998082]]),\n",
       " ((1e-06, 0.1),): array([[0.99998119]]),\n",
       " ((1e-06, 1),): array([[0.99998087]]),\n",
       " ((1e-06, 10),): array([[0.99998436]]),\n",
       " ((1e-06, 100),): array([[0.99998025]]),\n",
       " ((1e-05, 0.0001),): array([[0.99979583]]),\n",
       " ((1e-05, 0.001),): array([[0.99980531]]),\n",
       " ((1e-05, 0.01),): array([[0.99982154]]),\n",
       " ((1e-05, 0.1),): array([[0.99980326]]),\n",
       " ((1e-05, 1),): array([[0.99982369]]),\n",
       " ((1e-05, 10),): array([[0.99982377]]),\n",
       " ((1e-05, 100),): array([[0.99981807]])}"
      ]
     },
     "execution_count": 72,
     "metadata": {},
     "output_type": "execute_result"
    }
   ],
   "source": [
    "grid_search_cv_results"
   ]
  },
  {
   "cell_type": "code",
   "execution_count": 73,
   "id": "aa28b2e3",
   "metadata": {},
   "outputs": [],
   "source": [
    "# RANDOM SEARCH\n",
    "random_search_results = list()\n",
    "for i in range(10):\n",
    "    step_size = np.random.uniform(low = 10**(-7), high = 10**(-4))\n",
    "    reg_hyp_param = np.random.uniform(low = 10**(-4), high = 10**(3))\n",
    "    random_search_results.append(fit(step_size,reg_hyp_param))"
   ]
  },
  {
   "cell_type": "code",
   "execution_count": null,
   "id": "86133bbb",
   "metadata": {},
   "outputs": [],
   "source": [
    "random_searc"
   ]
  },
  {
   "cell_type": "code",
   "execution_count": 81,
   "id": "2c0768c9",
   "metadata": {},
   "outputs": [],
   "source": [
    "random_search_cv_results = dict()\n",
    "for configs in random_search_results:\n",
    "    if configs is not None:\n",
    "        trained_params = list(configs.values())\n",
    "        random_search_cv_results[tuple(configs.keys())] = rmse(Y_cv, trained_params[0][0],\n",
    "                                                            trained_params[0][1], X_transpose_cv\n",
    "                                                            )"
   ]
  },
  {
   "cell_type": "code",
   "execution_count": 82,
   "id": "85efe398",
   "metadata": {},
   "outputs": [
    {
     "data": {
      "text/plain": [
       "{((4.0582129779031345e-05, 911.8191346764794),): array([[0.99951474]]),\n",
       " ((5.0871039311073556e-05, 798.755666139493),): array([[0.99934135]]),\n",
       " ((2.6429770721657272e-05, 166.54024779021836),): array([[0.99947882]]),\n",
       " ((9.209337728971808e-05, 144.25955246224555),): array([[0.99857869]]),\n",
       " ((6.51750860697048e-05, 686.0665168197987),): array([[0.99933749]]),\n",
       " ((2.9164581318776655e-05, 837.8099655993876),): array([[0.9995844]]),\n",
       " ((5.1940662712210684e-05, 345.9107969527868),): array([[0.99926668]]),\n",
       " ((3.208769649805189e-05, 475.9504650940806),): array([[0.99950821]]),\n",
       " ((8.791277311952274e-05, 74.31017463478695),): array([[0.99851354]]),\n",
       " ((8.370353278496505e-05, 644.3531124640608),): array([[0.99909686]])}"
      ]
     },
     "execution_count": 82,
     "metadata": {},
     "output_type": "execute_result"
    }
   ],
   "source": [
    "random_search_cv_results"
   ]
  },
  {
   "cell_type": "code",
   "execution_count": 94,
   "id": "14648557",
   "metadata": {},
   "outputs": [],
   "source": [
    "from sklearn.preprocessing import PolynomialFeatures"
   ]
  },
  {
   "cell_type": "code",
   "execution_count": 95,
   "id": "1b6263e4",
   "metadata": {},
   "outputs": [],
   "source": [
    "feature_engineering_obj = PolynomialFeatures()"
   ]
  },
  {
   "cell_type": "code",
   "execution_count": 96,
   "id": "05f727de",
   "metadata": {},
   "outputs": [],
   "source": [
    "X_transpose_quadratic = feature_engineering_obj.fit_transform(X= X_transpose)"
   ]
  },
  {
   "cell_type": "code",
   "execution_count": 97,
   "id": "f67fb01d",
   "metadata": {},
   "outputs": [],
   "source": [
    "X_transpose_quadratic = X_transpose_quadratic[:,1:]"
   ]
  },
  {
   "cell_type": "code",
   "execution_count": 89,
   "id": "5d251373",
   "metadata": {},
   "outputs": [],
   "source": [
    "X_transpose_quadratic_df = pd.DataFrame(data = X_transpose_quadratic)"
   ]
  },
  {
   "cell_type": "code",
   "execution_count": 117,
   "id": "da681084",
   "metadata": {},
   "outputs": [],
   "source": [
    "X_transpose_quadratic_train = X_transpose_quadratic[0: int(0.7*X_transpose_quadratic.shape[0])]\n",
    "X_transpose_quadratic_cv = X_transpose_quadratic[int(0.7*X_transpose_quadratic.shape[0]):int(0.9*X_transpose_quadratic.shape[0])]\n"
   ]
  },
  {
   "cell_type": "code",
   "execution_count": 87,
   "id": "21802eec",
   "metadata": {},
   "outputs": [],
   "source": [
    "#feature_engineering_obj = PolynomialFeatures(degree = 3)"
   ]
  },
  {
   "cell_type": "code",
   "execution_count": 88,
   "id": "4f1f8380",
   "metadata": {},
   "outputs": [],
   "source": [
    "from sklearn.linear_model import LinearRegression"
   ]
  },
  {
   "cell_type": "code",
   "execution_count": 100,
   "id": "48f7e9a2",
   "metadata": {},
   "outputs": [],
   "source": [
    "lr_obj = LinearRegression()"
   ]
  },
  {
   "cell_type": "code",
   "execution_count": 102,
   "id": "7271af69",
   "metadata": {},
   "outputs": [
    {
     "data": {
      "text/html": [
       "<style>#sk-container-id-1 {color: black;}#sk-container-id-1 pre{padding: 0;}#sk-container-id-1 div.sk-toggleable {background-color: white;}#sk-container-id-1 label.sk-toggleable__label {cursor: pointer;display: block;width: 100%;margin-bottom: 0;padding: 0.3em;box-sizing: border-box;text-align: center;}#sk-container-id-1 label.sk-toggleable__label-arrow:before {content: \"▸\";float: left;margin-right: 0.25em;color: #696969;}#sk-container-id-1 label.sk-toggleable__label-arrow:hover:before {color: black;}#sk-container-id-1 div.sk-estimator:hover label.sk-toggleable__label-arrow:before {color: black;}#sk-container-id-1 div.sk-toggleable__content {max-height: 0;max-width: 0;overflow: hidden;text-align: left;background-color: #f0f8ff;}#sk-container-id-1 div.sk-toggleable__content pre {margin: 0.2em;color: black;border-radius: 0.25em;background-color: #f0f8ff;}#sk-container-id-1 input.sk-toggleable__control:checked~div.sk-toggleable__content {max-height: 200px;max-width: 100%;overflow: auto;}#sk-container-id-1 input.sk-toggleable__control:checked~label.sk-toggleable__label-arrow:before {content: \"▾\";}#sk-container-id-1 div.sk-estimator input.sk-toggleable__control:checked~label.sk-toggleable__label {background-color: #d4ebff;}#sk-container-id-1 div.sk-label input.sk-toggleable__control:checked~label.sk-toggleable__label {background-color: #d4ebff;}#sk-container-id-1 input.sk-hidden--visually {border: 0;clip: rect(1px 1px 1px 1px);clip: rect(1px, 1px, 1px, 1px);height: 1px;margin: -1px;overflow: hidden;padding: 0;position: absolute;width: 1px;}#sk-container-id-1 div.sk-estimator {font-family: monospace;background-color: #f0f8ff;border: 1px dotted black;border-radius: 0.25em;box-sizing: border-box;margin-bottom: 0.5em;}#sk-container-id-1 div.sk-estimator:hover {background-color: #d4ebff;}#sk-container-id-1 div.sk-parallel-item::after {content: \"\";width: 100%;border-bottom: 1px solid gray;flex-grow: 1;}#sk-container-id-1 div.sk-label:hover label.sk-toggleable__label {background-color: #d4ebff;}#sk-container-id-1 div.sk-serial::before {content: \"\";position: absolute;border-left: 1px solid gray;box-sizing: border-box;top: 0;bottom: 0;left: 50%;z-index: 0;}#sk-container-id-1 div.sk-serial {display: flex;flex-direction: column;align-items: center;background-color: white;padding-right: 0.2em;padding-left: 0.2em;position: relative;}#sk-container-id-1 div.sk-item {position: relative;z-index: 1;}#sk-container-id-1 div.sk-parallel {display: flex;align-items: stretch;justify-content: center;background-color: white;position: relative;}#sk-container-id-1 div.sk-item::before, #sk-container-id-1 div.sk-parallel-item::before {content: \"\";position: absolute;border-left: 1px solid gray;box-sizing: border-box;top: 0;bottom: 0;left: 50%;z-index: -1;}#sk-container-id-1 div.sk-parallel-item {display: flex;flex-direction: column;z-index: 1;position: relative;background-color: white;}#sk-container-id-1 div.sk-parallel-item:first-child::after {align-self: flex-end;width: 50%;}#sk-container-id-1 div.sk-parallel-item:last-child::after {align-self: flex-start;width: 50%;}#sk-container-id-1 div.sk-parallel-item:only-child::after {width: 0;}#sk-container-id-1 div.sk-dashed-wrapped {border: 1px dashed gray;margin: 0 0.4em 0.5em 0.4em;box-sizing: border-box;padding-bottom: 0.4em;background-color: white;}#sk-container-id-1 div.sk-label label {font-family: monospace;font-weight: bold;display: inline-block;line-height: 1.2em;}#sk-container-id-1 div.sk-label-container {text-align: center;}#sk-container-id-1 div.sk-container {/* jupyter's `normalize.less` sets `[hidden] { display: none; }` but bootstrap.min.css set `[hidden] { display: none !important; }` so we also need the `!important` here to be able to override the default hidden behavior on the sphinx rendered scikit-learn.org. See: https://github.com/scikit-learn/scikit-learn/issues/21755 */display: inline-block !important;position: relative;}#sk-container-id-1 div.sk-text-repr-fallback {display: none;}</style><div id=\"sk-container-id-1\" class=\"sk-top-container\"><div class=\"sk-text-repr-fallback\"><pre>LinearRegression()</pre><b>In a Jupyter environment, please rerun this cell to show the HTML representation or trust the notebook. <br />On GitHub, the HTML representation is unable to render, please try loading this page with nbviewer.org.</b></div><div class=\"sk-container\" hidden><div class=\"sk-item\"><div class=\"sk-estimator sk-toggleable\"><input class=\"sk-toggleable__control sk-hidden--visually\" id=\"sk-estimator-id-1\" type=\"checkbox\" checked><label for=\"sk-estimator-id-1\" class=\"sk-toggleable__label sk-toggleable__label-arrow\">LinearRegression</label><div class=\"sk-toggleable__content\"><pre>LinearRegression()</pre></div></div></div></div></div>"
      ],
      "text/plain": [
       "LinearRegression()"
      ]
     },
     "execution_count": 102,
     "metadata": {},
     "output_type": "execute_result"
    }
   ],
   "source": [
    "lr_obj.fit(X=X_transpose_quadratic_train,y =Y_train)"
   ]
  },
  {
   "cell_type": "code",
   "execution_count": 109,
   "id": "163e52de",
   "metadata": {},
   "outputs": [],
   "source": [
    "theta_trained = lr_obj.coef_"
   ]
  },
  {
   "cell_type": "code",
   "execution_count": 111,
   "id": "056bda25",
   "metadata": {},
   "outputs": [],
   "source": [
    "theta_trained = theta_trained.reshape(theta_trained.shape[1],1)"
   ]
  },
  {
   "cell_type": "code",
   "execution_count": 106,
   "id": "625cc6a8",
   "metadata": {},
   "outputs": [],
   "source": [
    "theta0_trained = lr_obj.intercept_"
   ]
  },
  {
   "cell_type": "code",
   "execution_count": 115,
   "id": "d7f91c54",
   "metadata": {},
   "outputs": [],
   "source": [
    "train_rmse = rmse(Y_train, theta0_trained, theta_trained, X_transpose_quadratic_train)"
   ]
  },
  {
   "cell_type": "code",
   "execution_count": 116,
   "id": "c2983d4c",
   "metadata": {},
   "outputs": [
    {
     "data": {
      "text/plain": [
       "array([[0.37164597]])"
      ]
     },
     "execution_count": 116,
     "metadata": {},
     "output_type": "execute_result"
    }
   ],
   "source": [
    "train_rmse"
   ]
  },
  {
   "cell_type": "markdown",
   "id": "e3a9b27a",
   "metadata": {},
   "source": []
  },
  {
   "cell_type": "code",
   "execution_count": 118,
   "id": "339727c3",
   "metadata": {},
   "outputs": [],
   "source": [
    "cv_rmse = rmse(Y_cv, theta0_trained,theta_trained, X_transpose_quadratic_cv)"
   ]
  },
  {
   "cell_type": "code",
   "execution_count": 119,
   "id": "8810b674",
   "metadata": {},
   "outputs": [
    {
     "data": {
      "text/plain": [
       "array([[0.44760209]])"
      ]
     },
     "execution_count": 119,
     "metadata": {},
     "output_type": "execute_result"
    }
   ],
   "source": [
    "cv_rmse"
   ]
  },
  {
   "cell_type": "code",
   "execution_count": null,
   "id": "1cfd055e",
   "metadata": {},
   "outputs": [],
   "source": []
  }
 ],
 "metadata": {
  "kernelspec": {
   "display_name": "Python 3 (ipykernel)",
   "language": "python",
   "name": "python3"
  },
  "language_info": {
   "codemirror_mode": {
    "name": "ipython",
    "version": 3
   },
   "file_extension": ".py",
   "mimetype": "text/x-python",
   "name": "python",
   "nbconvert_exporter": "python",
   "pygments_lexer": "ipython3",
   "version": "3.11.5"
  }
 },
 "nbformat": 4,
 "nbformat_minor": 5
}
